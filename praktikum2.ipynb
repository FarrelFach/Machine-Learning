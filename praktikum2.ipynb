{
  "nbformat": 4,
  "nbformat_minor": 0,
  "metadata": {
    "colab": {
      "provenance": [],
      "authorship_tag": "ABX9TyO1jzVVJz6ns4/9bOUz1BoW",
      "include_colab_link": true
    },
    "kernelspec": {
      "name": "python3",
      "display_name": "Python 3"
    },
    "language_info": {
      "name": "python"
    }
  },
  "cells": [
    {
      "cell_type": "markdown",
      "metadata": {
        "id": "view-in-github",
        "colab_type": "text"
      },
      "source": [
        "<a href=\"https://colab.research.google.com/github/FarrelFach/Machine-Learning/blob/main/praktikum2.ipynb\" target=\"_parent\"><img src=\"https://colab.research.google.com/assets/colab-badge.svg\" alt=\"Open In Colab\"/></a>"
      ]
    },
    {
      "cell_type": "code",
      "execution_count": 2,
      "metadata": {
        "colab": {
          "base_uri": "https://localhost:8080/"
        },
        "id": "w3mdm540Vkhq",
        "outputId": "5fcf90db-69be-4c9a-84e9-38d4f101a0b2"
      },
      "outputs": [
        {
          "output_type": "stream",
          "name": "stdout",
          "text": [
            "Mounted at /content/drive\n"
          ]
        }
      ],
      "source": [
        "from google.colab import drive\n",
        "drive.mount('/content/drive')"
      ]
    },
    {
      "cell_type": "code",
      "source": [
        "import pandas as pd\n",
        "import numpy as np\n",
        "path=\"/content/drive/My Drive/Machine Learning/Pratikum1.csv\"\n",
        "dataset=pd.read_csv(path)\n",
        "dataset"
      ],
      "metadata": {
        "colab": {
          "base_uri": "https://localhost:8080/",
          "height": 1000
        },
        "id": "1pAk3kt6VxH8",
        "outputId": "87c19742-8fed-4829-bbf5-e31cd3b4ee40"
      },
      "execution_count": 3,
      "outputs": [
        {
          "output_type": "execute_result",
          "data": {
            "text/plain": [
              "                Provinsi   2015   2016\n",
              "0                   ACEH  29.82  28.16\n",
              "1         SUMATERA UTARA  29.15  27.88\n",
              "2         SUMATERA BARAT  32.41  30.59\n",
              "3                   RIAU  31.21  29.61\n",
              "4                  JAMBI  30.82  29.18\n",
              "5       SUMATERA SELATAN  33.13  31.57\n",
              "6               BENGKULU  33.68  33.15\n",
              "7                LAMPUNG  34.12  33.39\n",
              "8   KEP. BANGKA BELITUNG  30.70  29.32\n",
              "9              KEP. RIAU  29.18  29.25\n",
              "10           DKI JAKARTA  27.31  26.42\n",
              "11            JAWA BARAT  33.82  32.67\n",
              "12           JAWA TENGAH  28.57  27.19\n",
              "13         DI YOGYAKARTA  24.12  23.11\n",
              "14            JAWA TIMUR  29.03  28.16\n",
              "15                BANTEN  32.95  31.64\n",
              "16                  BALI  22.96  21.62\n",
              "17   NUSA TENGGARA BARAT  31.60  30.88\n",
              "18   NUSA TENGGARA TIMUR  25.47  24.91\n",
              "19      KALIMANTAN BARAT  29.35  28.09\n",
              "20     KALIMANTAN TENGAH  30.53  29.21\n",
              "21    KALIMANTAN SELATAN  25.76  25.34\n",
              "22      KALIMANTAN TIMUR  25.59  25.23\n",
              "23      KALIMANTAN UTARA  28.61  28.38\n",
              "24        SULAWESI UTARA  29.31  29.23\n",
              "25       SULAWESI TENGAH  32.56  31.88\n",
              "26      SULAWESI SELATAN  25.49  25.13\n",
              "27     SULAWESI TENGGARA  28.49  27.60\n",
              "28             GORONTALO  33.93  31.71\n",
              "29        SULAWESI BARAT  28.29  27.36\n",
              "30                MALUKU  27.19  25.68\n",
              "31          MALUKU UTARA  31.14  30.23\n",
              "32           PAPUA BARAT  29.28  26.18\n",
              "33                 PAPUA  26.67  24.04"
            ],
            "text/html": [
              "\n",
              "  <div id=\"df-5ab041b7-83d4-4976-adf3-9e0ef4ef65f8\">\n",
              "    <div class=\"colab-df-container\">\n",
              "      <div>\n",
              "<style scoped>\n",
              "    .dataframe tbody tr th:only-of-type {\n",
              "        vertical-align: middle;\n",
              "    }\n",
              "\n",
              "    .dataframe tbody tr th {\n",
              "        vertical-align: top;\n",
              "    }\n",
              "\n",
              "    .dataframe thead th {\n",
              "        text-align: right;\n",
              "    }\n",
              "</style>\n",
              "<table border=\"1\" class=\"dataframe\">\n",
              "  <thead>\n",
              "    <tr style=\"text-align: right;\">\n",
              "      <th></th>\n",
              "      <th>Provinsi</th>\n",
              "      <th>2015</th>\n",
              "      <th>2016</th>\n",
              "    </tr>\n",
              "  </thead>\n",
              "  <tbody>\n",
              "    <tr>\n",
              "      <th>0</th>\n",
              "      <td>ACEH</td>\n",
              "      <td>29.82</td>\n",
              "      <td>28.16</td>\n",
              "    </tr>\n",
              "    <tr>\n",
              "      <th>1</th>\n",
              "      <td>SUMATERA UTARA</td>\n",
              "      <td>29.15</td>\n",
              "      <td>27.88</td>\n",
              "    </tr>\n",
              "    <tr>\n",
              "      <th>2</th>\n",
              "      <td>SUMATERA BARAT</td>\n",
              "      <td>32.41</td>\n",
              "      <td>30.59</td>\n",
              "    </tr>\n",
              "    <tr>\n",
              "      <th>3</th>\n",
              "      <td>RIAU</td>\n",
              "      <td>31.21</td>\n",
              "      <td>29.61</td>\n",
              "    </tr>\n",
              "    <tr>\n",
              "      <th>4</th>\n",
              "      <td>JAMBI</td>\n",
              "      <td>30.82</td>\n",
              "      <td>29.18</td>\n",
              "    </tr>\n",
              "    <tr>\n",
              "      <th>5</th>\n",
              "      <td>SUMATERA SELATAN</td>\n",
              "      <td>33.13</td>\n",
              "      <td>31.57</td>\n",
              "    </tr>\n",
              "    <tr>\n",
              "      <th>6</th>\n",
              "      <td>BENGKULU</td>\n",
              "      <td>33.68</td>\n",
              "      <td>33.15</td>\n",
              "    </tr>\n",
              "    <tr>\n",
              "      <th>7</th>\n",
              "      <td>LAMPUNG</td>\n",
              "      <td>34.12</td>\n",
              "      <td>33.39</td>\n",
              "    </tr>\n",
              "    <tr>\n",
              "      <th>8</th>\n",
              "      <td>KEP. BANGKA BELITUNG</td>\n",
              "      <td>30.70</td>\n",
              "      <td>29.32</td>\n",
              "    </tr>\n",
              "    <tr>\n",
              "      <th>9</th>\n",
              "      <td>KEP. RIAU</td>\n",
              "      <td>29.18</td>\n",
              "      <td>29.25</td>\n",
              "    </tr>\n",
              "    <tr>\n",
              "      <th>10</th>\n",
              "      <td>DKI JAKARTA</td>\n",
              "      <td>27.31</td>\n",
              "      <td>26.42</td>\n",
              "    </tr>\n",
              "    <tr>\n",
              "      <th>11</th>\n",
              "      <td>JAWA BARAT</td>\n",
              "      <td>33.82</td>\n",
              "      <td>32.67</td>\n",
              "    </tr>\n",
              "    <tr>\n",
              "      <th>12</th>\n",
              "      <td>JAWA TENGAH</td>\n",
              "      <td>28.57</td>\n",
              "      <td>27.19</td>\n",
              "    </tr>\n",
              "    <tr>\n",
              "      <th>13</th>\n",
              "      <td>DI YOGYAKARTA</td>\n",
              "      <td>24.12</td>\n",
              "      <td>23.11</td>\n",
              "    </tr>\n",
              "    <tr>\n",
              "      <th>14</th>\n",
              "      <td>JAWA TIMUR</td>\n",
              "      <td>29.03</td>\n",
              "      <td>28.16</td>\n",
              "    </tr>\n",
              "    <tr>\n",
              "      <th>15</th>\n",
              "      <td>BANTEN</td>\n",
              "      <td>32.95</td>\n",
              "      <td>31.64</td>\n",
              "    </tr>\n",
              "    <tr>\n",
              "      <th>16</th>\n",
              "      <td>BALI</td>\n",
              "      <td>22.96</td>\n",
              "      <td>21.62</td>\n",
              "    </tr>\n",
              "    <tr>\n",
              "      <th>17</th>\n",
              "      <td>NUSA TENGGARA BARAT</td>\n",
              "      <td>31.60</td>\n",
              "      <td>30.88</td>\n",
              "    </tr>\n",
              "    <tr>\n",
              "      <th>18</th>\n",
              "      <td>NUSA TENGGARA TIMUR</td>\n",
              "      <td>25.47</td>\n",
              "      <td>24.91</td>\n",
              "    </tr>\n",
              "    <tr>\n",
              "      <th>19</th>\n",
              "      <td>KALIMANTAN BARAT</td>\n",
              "      <td>29.35</td>\n",
              "      <td>28.09</td>\n",
              "    </tr>\n",
              "    <tr>\n",
              "      <th>20</th>\n",
              "      <td>KALIMANTAN TENGAH</td>\n",
              "      <td>30.53</td>\n",
              "      <td>29.21</td>\n",
              "    </tr>\n",
              "    <tr>\n",
              "      <th>21</th>\n",
              "      <td>KALIMANTAN SELATAN</td>\n",
              "      <td>25.76</td>\n",
              "      <td>25.34</td>\n",
              "    </tr>\n",
              "    <tr>\n",
              "      <th>22</th>\n",
              "      <td>KALIMANTAN TIMUR</td>\n",
              "      <td>25.59</td>\n",
              "      <td>25.23</td>\n",
              "    </tr>\n",
              "    <tr>\n",
              "      <th>23</th>\n",
              "      <td>KALIMANTAN UTARA</td>\n",
              "      <td>28.61</td>\n",
              "      <td>28.38</td>\n",
              "    </tr>\n",
              "    <tr>\n",
              "      <th>24</th>\n",
              "      <td>SULAWESI UTARA</td>\n",
              "      <td>29.31</td>\n",
              "      <td>29.23</td>\n",
              "    </tr>\n",
              "    <tr>\n",
              "      <th>25</th>\n",
              "      <td>SULAWESI TENGAH</td>\n",
              "      <td>32.56</td>\n",
              "      <td>31.88</td>\n",
              "    </tr>\n",
              "    <tr>\n",
              "      <th>26</th>\n",
              "      <td>SULAWESI SELATAN</td>\n",
              "      <td>25.49</td>\n",
              "      <td>25.13</td>\n",
              "    </tr>\n",
              "    <tr>\n",
              "      <th>27</th>\n",
              "      <td>SULAWESI TENGGARA</td>\n",
              "      <td>28.49</td>\n",
              "      <td>27.60</td>\n",
              "    </tr>\n",
              "    <tr>\n",
              "      <th>28</th>\n",
              "      <td>GORONTALO</td>\n",
              "      <td>33.93</td>\n",
              "      <td>31.71</td>\n",
              "    </tr>\n",
              "    <tr>\n",
              "      <th>29</th>\n",
              "      <td>SULAWESI BARAT</td>\n",
              "      <td>28.29</td>\n",
              "      <td>27.36</td>\n",
              "    </tr>\n",
              "    <tr>\n",
              "      <th>30</th>\n",
              "      <td>MALUKU</td>\n",
              "      <td>27.19</td>\n",
              "      <td>25.68</td>\n",
              "    </tr>\n",
              "    <tr>\n",
              "      <th>31</th>\n",
              "      <td>MALUKU UTARA</td>\n",
              "      <td>31.14</td>\n",
              "      <td>30.23</td>\n",
              "    </tr>\n",
              "    <tr>\n",
              "      <th>32</th>\n",
              "      <td>PAPUA BARAT</td>\n",
              "      <td>29.28</td>\n",
              "      <td>26.18</td>\n",
              "    </tr>\n",
              "    <tr>\n",
              "      <th>33</th>\n",
              "      <td>PAPUA</td>\n",
              "      <td>26.67</td>\n",
              "      <td>24.04</td>\n",
              "    </tr>\n",
              "  </tbody>\n",
              "</table>\n",
              "</div>\n",
              "      <button class=\"colab-df-convert\" onclick=\"convertToInteractive('df-5ab041b7-83d4-4976-adf3-9e0ef4ef65f8')\"\n",
              "              title=\"Convert this dataframe to an interactive table.\"\n",
              "              style=\"display:none;\">\n",
              "        \n",
              "  <svg xmlns=\"http://www.w3.org/2000/svg\" height=\"24px\"viewBox=\"0 0 24 24\"\n",
              "       width=\"24px\">\n",
              "    <path d=\"M0 0h24v24H0V0z\" fill=\"none\"/>\n",
              "    <path d=\"M18.56 5.44l.94 2.06.94-2.06 2.06-.94-2.06-.94-.94-2.06-.94 2.06-2.06.94zm-11 1L8.5 8.5l.94-2.06 2.06-.94-2.06-.94L8.5 2.5l-.94 2.06-2.06.94zm10 10l.94 2.06.94-2.06 2.06-.94-2.06-.94-.94-2.06-.94 2.06-2.06.94z\"/><path d=\"M17.41 7.96l-1.37-1.37c-.4-.4-.92-.59-1.43-.59-.52 0-1.04.2-1.43.59L10.3 9.45l-7.72 7.72c-.78.78-.78 2.05 0 2.83L4 21.41c.39.39.9.59 1.41.59.51 0 1.02-.2 1.41-.59l7.78-7.78 2.81-2.81c.8-.78.8-2.07 0-2.86zM5.41 20L4 18.59l7.72-7.72 1.47 1.35L5.41 20z\"/>\n",
              "  </svg>\n",
              "      </button>\n",
              "      \n",
              "  <style>\n",
              "    .colab-df-container {\n",
              "      display:flex;\n",
              "      flex-wrap:wrap;\n",
              "      gap: 12px;\n",
              "    }\n",
              "\n",
              "    .colab-df-convert {\n",
              "      background-color: #E8F0FE;\n",
              "      border: none;\n",
              "      border-radius: 50%;\n",
              "      cursor: pointer;\n",
              "      display: none;\n",
              "      fill: #1967D2;\n",
              "      height: 32px;\n",
              "      padding: 0 0 0 0;\n",
              "      width: 32px;\n",
              "    }\n",
              "\n",
              "    .colab-df-convert:hover {\n",
              "      background-color: #E2EBFA;\n",
              "      box-shadow: 0px 1px 2px rgba(60, 64, 67, 0.3), 0px 1px 3px 1px rgba(60, 64, 67, 0.15);\n",
              "      fill: #174EA6;\n",
              "    }\n",
              "\n",
              "    [theme=dark] .colab-df-convert {\n",
              "      background-color: #3B4455;\n",
              "      fill: #D2E3FC;\n",
              "    }\n",
              "\n",
              "    [theme=dark] .colab-df-convert:hover {\n",
              "      background-color: #434B5C;\n",
              "      box-shadow: 0px 1px 3px 1px rgba(0, 0, 0, 0.15);\n",
              "      filter: drop-shadow(0px 1px 2px rgba(0, 0, 0, 0.3));\n",
              "      fill: #FFFFFF;\n",
              "    }\n",
              "  </style>\n",
              "\n",
              "      <script>\n",
              "        const buttonEl =\n",
              "          document.querySelector('#df-5ab041b7-83d4-4976-adf3-9e0ef4ef65f8 button.colab-df-convert');\n",
              "        buttonEl.style.display =\n",
              "          google.colab.kernel.accessAllowed ? 'block' : 'none';\n",
              "\n",
              "        async function convertToInteractive(key) {\n",
              "          const element = document.querySelector('#df-5ab041b7-83d4-4976-adf3-9e0ef4ef65f8');\n",
              "          const dataTable =\n",
              "            await google.colab.kernel.invokeFunction('convertToInteractive',\n",
              "                                                     [key], {});\n",
              "          if (!dataTable) return;\n",
              "\n",
              "          const docLinkHtml = 'Like what you see? Visit the ' +\n",
              "            '<a target=\"_blank\" href=https://colab.research.google.com/notebooks/data_table.ipynb>data table notebook</a>'\n",
              "            + ' to learn more about interactive tables.';\n",
              "          element.innerHTML = '';\n",
              "          dataTable['output_type'] = 'display_data';\n",
              "          await google.colab.output.renderOutput(dataTable, element);\n",
              "          const docLink = document.createElement('div');\n",
              "          docLink.innerHTML = docLinkHtml;\n",
              "          element.appendChild(docLink);\n",
              "        }\n",
              "      </script>\n",
              "    </div>\n",
              "  </div>\n",
              "  "
            ]
          },
          "metadata": {},
          "execution_count": 3
        }
      ]
    },
    {
      "cell_type": "code",
      "source": [
        "dataset.head()"
      ],
      "metadata": {
        "colab": {
          "base_uri": "https://localhost:8080/",
          "height": 206
        },
        "id": "EXPVSg9jV7ea",
        "outputId": "f189012e-e83e-4ac0-e1bf-0a122d4e1bca"
      },
      "execution_count": 4,
      "outputs": [
        {
          "output_type": "execute_result",
          "data": {
            "text/plain": [
              "         Provinsi   2015   2016\n",
              "0            ACEH  29.82  28.16\n",
              "1  SUMATERA UTARA  29.15  27.88\n",
              "2  SUMATERA BARAT  32.41  30.59\n",
              "3            RIAU  31.21  29.61\n",
              "4           JAMBI  30.82  29.18"
            ],
            "text/html": [
              "\n",
              "  <div id=\"df-9c2cadc1-b425-478b-a56a-b97f0fd01ad0\">\n",
              "    <div class=\"colab-df-container\">\n",
              "      <div>\n",
              "<style scoped>\n",
              "    .dataframe tbody tr th:only-of-type {\n",
              "        vertical-align: middle;\n",
              "    }\n",
              "\n",
              "    .dataframe tbody tr th {\n",
              "        vertical-align: top;\n",
              "    }\n",
              "\n",
              "    .dataframe thead th {\n",
              "        text-align: right;\n",
              "    }\n",
              "</style>\n",
              "<table border=\"1\" class=\"dataframe\">\n",
              "  <thead>\n",
              "    <tr style=\"text-align: right;\">\n",
              "      <th></th>\n",
              "      <th>Provinsi</th>\n",
              "      <th>2015</th>\n",
              "      <th>2016</th>\n",
              "    </tr>\n",
              "  </thead>\n",
              "  <tbody>\n",
              "    <tr>\n",
              "      <th>0</th>\n",
              "      <td>ACEH</td>\n",
              "      <td>29.82</td>\n",
              "      <td>28.16</td>\n",
              "    </tr>\n",
              "    <tr>\n",
              "      <th>1</th>\n",
              "      <td>SUMATERA UTARA</td>\n",
              "      <td>29.15</td>\n",
              "      <td>27.88</td>\n",
              "    </tr>\n",
              "    <tr>\n",
              "      <th>2</th>\n",
              "      <td>SUMATERA BARAT</td>\n",
              "      <td>32.41</td>\n",
              "      <td>30.59</td>\n",
              "    </tr>\n",
              "    <tr>\n",
              "      <th>3</th>\n",
              "      <td>RIAU</td>\n",
              "      <td>31.21</td>\n",
              "      <td>29.61</td>\n",
              "    </tr>\n",
              "    <tr>\n",
              "      <th>4</th>\n",
              "      <td>JAMBI</td>\n",
              "      <td>30.82</td>\n",
              "      <td>29.18</td>\n",
              "    </tr>\n",
              "  </tbody>\n",
              "</table>\n",
              "</div>\n",
              "      <button class=\"colab-df-convert\" onclick=\"convertToInteractive('df-9c2cadc1-b425-478b-a56a-b97f0fd01ad0')\"\n",
              "              title=\"Convert this dataframe to an interactive table.\"\n",
              "              style=\"display:none;\">\n",
              "        \n",
              "  <svg xmlns=\"http://www.w3.org/2000/svg\" height=\"24px\"viewBox=\"0 0 24 24\"\n",
              "       width=\"24px\">\n",
              "    <path d=\"M0 0h24v24H0V0z\" fill=\"none\"/>\n",
              "    <path d=\"M18.56 5.44l.94 2.06.94-2.06 2.06-.94-2.06-.94-.94-2.06-.94 2.06-2.06.94zm-11 1L8.5 8.5l.94-2.06 2.06-.94-2.06-.94L8.5 2.5l-.94 2.06-2.06.94zm10 10l.94 2.06.94-2.06 2.06-.94-2.06-.94-.94-2.06-.94 2.06-2.06.94z\"/><path d=\"M17.41 7.96l-1.37-1.37c-.4-.4-.92-.59-1.43-.59-.52 0-1.04.2-1.43.59L10.3 9.45l-7.72 7.72c-.78.78-.78 2.05 0 2.83L4 21.41c.39.39.9.59 1.41.59.51 0 1.02-.2 1.41-.59l7.78-7.78 2.81-2.81c.8-.78.8-2.07 0-2.86zM5.41 20L4 18.59l7.72-7.72 1.47 1.35L5.41 20z\"/>\n",
              "  </svg>\n",
              "      </button>\n",
              "      \n",
              "  <style>\n",
              "    .colab-df-container {\n",
              "      display:flex;\n",
              "      flex-wrap:wrap;\n",
              "      gap: 12px;\n",
              "    }\n",
              "\n",
              "    .colab-df-convert {\n",
              "      background-color: #E8F0FE;\n",
              "      border: none;\n",
              "      border-radius: 50%;\n",
              "      cursor: pointer;\n",
              "      display: none;\n",
              "      fill: #1967D2;\n",
              "      height: 32px;\n",
              "      padding: 0 0 0 0;\n",
              "      width: 32px;\n",
              "    }\n",
              "\n",
              "    .colab-df-convert:hover {\n",
              "      background-color: #E2EBFA;\n",
              "      box-shadow: 0px 1px 2px rgba(60, 64, 67, 0.3), 0px 1px 3px 1px rgba(60, 64, 67, 0.15);\n",
              "      fill: #174EA6;\n",
              "    }\n",
              "\n",
              "    [theme=dark] .colab-df-convert {\n",
              "      background-color: #3B4455;\n",
              "      fill: #D2E3FC;\n",
              "    }\n",
              "\n",
              "    [theme=dark] .colab-df-convert:hover {\n",
              "      background-color: #434B5C;\n",
              "      box-shadow: 0px 1px 3px 1px rgba(0, 0, 0, 0.15);\n",
              "      filter: drop-shadow(0px 1px 2px rgba(0, 0, 0, 0.3));\n",
              "      fill: #FFFFFF;\n",
              "    }\n",
              "  </style>\n",
              "\n",
              "      <script>\n",
              "        const buttonEl =\n",
              "          document.querySelector('#df-9c2cadc1-b425-478b-a56a-b97f0fd01ad0 button.colab-df-convert');\n",
              "        buttonEl.style.display =\n",
              "          google.colab.kernel.accessAllowed ? 'block' : 'none';\n",
              "\n",
              "        async function convertToInteractive(key) {\n",
              "          const element = document.querySelector('#df-9c2cadc1-b425-478b-a56a-b97f0fd01ad0');\n",
              "          const dataTable =\n",
              "            await google.colab.kernel.invokeFunction('convertToInteractive',\n",
              "                                                     [key], {});\n",
              "          if (!dataTable) return;\n",
              "\n",
              "          const docLinkHtml = 'Like what you see? Visit the ' +\n",
              "            '<a target=\"_blank\" href=https://colab.research.google.com/notebooks/data_table.ipynb>data table notebook</a>'\n",
              "            + ' to learn more about interactive tables.';\n",
              "          element.innerHTML = '';\n",
              "          dataTable['output_type'] = 'display_data';\n",
              "          await google.colab.output.renderOutput(dataTable, element);\n",
              "          const docLink = document.createElement('div');\n",
              "          docLink.innerHTML = docLinkHtml;\n",
              "          element.appendChild(docLink);\n",
              "        }\n",
              "      </script>\n",
              "    </div>\n",
              "  </div>\n",
              "  "
            ]
          },
          "metadata": {},
          "execution_count": 4
        }
      ]
    },
    {
      "cell_type": "code",
      "source": [
        "import matplotlib.pyplot as plt\n",
        "#%matplotlib inline"
      ],
      "metadata": {
        "id": "Q0rfKHo1WAnW"
      },
      "execution_count": 6,
      "outputs": []
    },
    {
      "cell_type": "code",
      "source": [
        "plt.scatter(dataset['Provinsi'],dataset['2015'])"
      ],
      "metadata": {
        "colab": {
          "base_uri": "https://localhost:8080/",
          "height": 282
        },
        "id": "f3119ROfWLyA",
        "outputId": "0b126a8f-865d-4b27-9dcd-9e4173248788"
      },
      "execution_count": 8,
      "outputs": [
        {
          "output_type": "execute_result",
          "data": {
            "text/plain": [
              "<matplotlib.collections.PathCollection at 0x7f8cc9f86790>"
            ]
          },
          "metadata": {},
          "execution_count": 8
        },
        {
          "output_type": "display_data",
          "data": {
            "text/plain": [
              "<Figure size 432x288 with 1 Axes>"
            ],
            "image/png": "[encoded data removed]"
          },
          "metadata": {
            "needs_background": "light"
          }
        }
      ]
    },
    {
      "cell_type": "code",
      "source": [
        "plt.scatter(dataset['2016'],dataset['2015'])"
      ],
      "metadata": {
        "colab": {
          "base_uri": "https://localhost:8080/",
          "height": 282
        },
        "id": "Qt_XIG_UXGVH",
        "outputId": "8660ec9e-0b39-4f58-cad3-92bbae678038"
      },
      "execution_count": 9,
      "outputs": [
        {
          "output_type": "execute_result",
          "data": {
            "text/plain": [
              "<matplotlib.collections.PathCollection at 0x7f8cc9ebcb10>"
            ]
          },
          "metadata": {},
          "execution_count": 9
        },
        {
          "output_type": "display_data",
          "data": {
            "text/plain": [
              "<Figure size 432x288 with 1 Axes>"
            ],
            "image/png": "[encoded data removed]"
          },
          "metadata": {
            "needs_background": "light"
          }
        }
      ]
    },
    {
      "cell_type": "code",
      "source": [
        "dataset.dtypes"
      ],
      "metadata": {
        "colab": {
          "base_uri": "https://localhost:8080/"
        },
        "id": "6fAjW5qIXKIx",
        "outputId": "1d2ff76b-0b25-4d41-d241-313724c8992f"
      },
      "execution_count": 10,
      "outputs": [
        {
          "output_type": "execute_result",
          "data": {
            "text/plain": [
              "Provinsi     object\n",
              "2015        float64\n",
              "2016        float64\n",
              "dtype: object"
            ]
          },
          "metadata": {},
          "execution_count": 10
        }
      ]
    },
    {
      "cell_type": "code",
      "source": [
        "x=dataset['Provinsi']\n",
        "y=dataset['2015']"
      ],
      "metadata": {
        "id": "noEkoXPPXYPn"
      },
      "execution_count": 11,
      "outputs": []
    },
    {
      "cell_type": "code",
      "source": [
        "x"
      ],
      "metadata": {
        "colab": {
          "base_uri": "https://localhost:8080/"
        },
        "id": "Rlu2uAJBXhGF",
        "outputId": "1d64e411-a3af-48b5-a068-e35fd9da0c93"
      },
      "execution_count": 12,
      "outputs": [
        {
          "output_type": "execute_result",
          "data": {
            "text/plain": [
              "0                     ACEH\n",
              "1           SUMATERA UTARA\n",
              "2           SUMATERA BARAT\n",
              "3                     RIAU\n",
              "4                    JAMBI\n",
              "5         SUMATERA SELATAN\n",
              "6                 BENGKULU\n",
              "7                  LAMPUNG\n",
              "8     KEP. BANGKA BELITUNG\n",
              "9                KEP. RIAU\n",
              "10             DKI JAKARTA\n",
              "11              JAWA BARAT\n",
              "12             JAWA TENGAH\n",
              "13           DI YOGYAKARTA\n",
              "14              JAWA TIMUR\n",
              "15                  BANTEN\n",
              "16                    BALI\n",
              "17     NUSA TENGGARA BARAT\n",
              "18     NUSA TENGGARA TIMUR\n",
              "19        KALIMANTAN BARAT\n",
              "20       KALIMANTAN TENGAH\n",
              "21      KALIMANTAN SELATAN\n",
              "22        KALIMANTAN TIMUR\n",
              "23        KALIMANTAN UTARA\n",
              "24          SULAWESI UTARA\n",
              "25         SULAWESI TENGAH\n",
              "26        SULAWESI SELATAN\n",
              "27       SULAWESI TENGGARA\n",
              "28               GORONTALO\n",
              "29          SULAWESI BARAT\n",
              "30                  MALUKU\n",
              "31            MALUKU UTARA\n",
              "32             PAPUA BARAT\n",
              "33                   PAPUA\n",
              "Name: Provinsi, dtype: object"
            ]
          },
          "metadata": {},
          "execution_count": 12
        }
      ]
    },
    {
      "cell_type": "code",
      "source": [
        "y"
      ],
      "metadata": {
        "colab": {
          "base_uri": "https://localhost:8080/"
        },
        "id": "jWy_knCJXkl_",
        "outputId": "61284732-fd91-438b-cec6-d50154ed119a"
      },
      "execution_count": 13,
      "outputs": [
        {
          "output_type": "execute_result",
          "data": {
            "text/plain": [
              "0     29.82\n",
              "1     29.15\n",
              "2     32.41\n",
              "3     31.21\n",
              "4     30.82\n",
              "5     33.13\n",
              "6     33.68\n",
              "7     34.12\n",
              "8     30.70\n",
              "9     29.18\n",
              "10    27.31\n",
              "11    33.82\n",
              "12    28.57\n",
              "13    24.12\n",
              "14    29.03\n",
              "15    32.95\n",
              "16    22.96\n",
              "17    31.60\n",
              "18    25.47\n",
              "19    29.35\n",
              "20    30.53\n",
              "21    25.76\n",
              "22    25.59\n",
              "23    28.61\n",
              "24    29.31\n",
              "25    32.56\n",
              "26    25.49\n",
              "27    28.49\n",
              "28    33.93\n",
              "29    28.29\n",
              "30    27.19\n",
              "31    31.14\n",
              "32    29.28\n",
              "33    26.67\n",
              "Name: 2015, dtype: float64"
            ]
          },
          "metadata": {},
          "execution_count": 13
        }
      ]
    },
    {
      "cell_type": "code",
      "source": [
        "from sklearn.model_selection import train_test_split"
      ],
      "metadata": {
        "id": "jDqehHAtXmhH"
      },
      "execution_count": 14,
      "outputs": []
    },
    {
      "cell_type": "code",
      "source": [
        "x_train,x_test,y_train,y_test=train_test_split(x, y, test_size=0.2)"
      ],
      "metadata": {
        "id": "ok7qxiGmX-Pt"
      },
      "execution_count": 23,
      "outputs": []
    },
    {
      "cell_type": "code",
      "source": [
        "len(x_train)"
      ],
      "metadata": {
        "colab": {
          "base_uri": "https://localhost:8080/"
        },
        "id": "zuBKlKxfYSV9",
        "outputId": "1e0a1335-bb8b-4570-868e-f69618cc4338"
      },
      "execution_count": 20,
      "outputs": [
        {
          "output_type": "execute_result",
          "data": {
            "text/plain": [
              "27"
            ]
          },
          "metadata": {},
          "execution_count": 20
        }
      ]
    },
    {
      "cell_type": "code",
      "source": [
        "len(x_test)"
      ],
      "metadata": {
        "colab": {
          "base_uri": "https://localhost:8080/"
        },
        "id": "qciUiTaUYXGb",
        "outputId": "7fb257db-ea43-49f8-e042-3e35e01dba3d"
      },
      "execution_count": 21,
      "outputs": [
        {
          "output_type": "execute_result",
          "data": {
            "text/plain": [
              "7"
            ]
          },
          "metadata": {},
          "execution_count": 21
        }
      ]
    },
    {
      "cell_type": "code",
      "source": [
        "x_train"
      ],
      "metadata": {
        "colab": {
          "base_uri": "https://localhost:8080/"
        },
        "id": "121kwab8YZOp",
        "outputId": "ae9f8c28-a327-4da5-9615-9c322384ae29"
      },
      "execution_count": 24,
      "outputs": [
        {
          "output_type": "execute_result",
          "data": {
            "text/plain": [
              "31           MALUKU UTARA\n",
              "27      SULAWESI TENGGARA\n",
              "32            PAPUA BARAT\n",
              "2          SUMATERA BARAT\n",
              "7                 LAMPUNG\n",
              "20      KALIMANTAN TENGAH\n",
              "16                   BALI\n",
              "11             JAWA BARAT\n",
              "29         SULAWESI BARAT\n",
              "9               KEP. RIAU\n",
              "24         SULAWESI UTARA\n",
              "30                 MALUKU\n",
              "13          DI YOGYAKARTA\n",
              "19       KALIMANTAN BARAT\n",
              "33                  PAPUA\n",
              "14             JAWA TIMUR\n",
              "0                    ACEH\n",
              "15                 BANTEN\n",
              "18    NUSA TENGGARA TIMUR\n",
              "12            JAWA TENGAH\n",
              "6                BENGKULU\n",
              "23       KALIMANTAN UTARA\n",
              "21     KALIMANTAN SELATAN\n",
              "25        SULAWESI TENGAH\n",
              "4                   JAMBI\n",
              "10            DKI JAKARTA\n",
              "1          SUMATERA UTARA\n",
              "Name: Provinsi, dtype: object"
            ]
          },
          "metadata": {},
          "execution_count": 24
        }
      ]
    },
    {
      "cell_type": "code",
      "source": [
        "x_test"
      ],
      "metadata": {
        "colab": {
          "base_uri": "https://localhost:8080/"
        },
        "id": "nMsj2K1nYzuZ",
        "outputId": "824a4b21-a46f-4b09-ad46-7826842218cd"
      },
      "execution_count": 25,
      "outputs": [
        {
          "output_type": "execute_result",
          "data": {
            "text/plain": [
              "17     NUSA TENGGARA BARAT\n",
              "8     KEP. BANGKA BELITUNG\n",
              "26        SULAWESI SELATAN\n",
              "5         SUMATERA SELATAN\n",
              "28               GORONTALO\n",
              "22        KALIMANTAN TIMUR\n",
              "3                     RIAU\n",
              "Name: Provinsi, dtype: object"
            ]
          },
          "metadata": {},
          "execution_count": 25
        }
      ]
    },
    {
      "cell_type": "code",
      "source": [
        "y_train"
      ],
      "metadata": {
        "colab": {
          "base_uri": "https://localhost:8080/"
        },
        "id": "MnlkydjoY199",
        "outputId": "25607774-95d9-4cb2-a20d-592d902bf28c"
      },
      "execution_count": 26,
      "outputs": [
        {
          "output_type": "execute_result",
          "data": {
            "text/plain": [
              "31    31.14\n",
              "27    28.49\n",
              "32    29.28\n",
              "2     32.41\n",
              "7     34.12\n",
              "20    30.53\n",
              "16    22.96\n",
              "11    33.82\n",
              "29    28.29\n",
              "9     29.18\n",
              "24    29.31\n",
              "30    27.19\n",
              "13    24.12\n",
              "19    29.35\n",
              "33    26.67\n",
              "14    29.03\n",
              "0     29.82\n",
              "15    32.95\n",
              "18    25.47\n",
              "12    28.57\n",
              "6     33.68\n",
              "23    28.61\n",
              "21    25.76\n",
              "25    32.56\n",
              "4     30.82\n",
              "10    27.31\n",
              "1     29.15\n",
              "Name: 2015, dtype: float64"
            ]
          },
          "metadata": {},
          "execution_count": 26
        }
      ]
    },
    {
      "cell_type": "code",
      "source": [
        "y_test"
      ],
      "metadata": {
        "colab": {
          "base_uri": "https://localhost:8080/"
        },
        "id": "gusOisUGY47H",
        "outputId": "dbaa5bee-0aad-4e33-e7fc-4de167d8b37b"
      },
      "execution_count": 27,
      "outputs": [
        {
          "output_type": "execute_result",
          "data": {
            "text/plain": [
              "17    31.60\n",
              "8     30.70\n",
              "26    25.49\n",
              "5     33.13\n",
              "28    33.93\n",
              "22    25.59\n",
              "3     31.21\n",
              "Name: 2015, dtype: float64"
            ]
          },
          "metadata": {},
          "execution_count": 27
        }
      ]
    },
    {
      "cell_type": "code",
      "source": [
        "x_train,x_test,y_train,y_test=train_test_split(x, y, test_size=0.2, random_state=42)"
      ],
      "metadata": {
        "id": "I2_QObxuZKZa"
      },
      "execution_count": 28,
      "outputs": []
    },
    {
      "cell_type": "code",
      "source": [
        "x_train"
      ],
      "metadata": {
        "colab": {
          "base_uri": "https://localhost:8080/"
        },
        "id": "umnhWe4zZPLQ",
        "outputId": "a154ffc3-1b02-468f-a341-0b7d6045f8db"
      },
      "execution_count": 29,
      "outputs": [
        {
          "output_type": "execute_result",
          "data": {
            "text/plain": [
              "12            JAWA TENGAH\n",
              "32            PAPUA BARAT\n",
              "9               KEP. RIAU\n",
              "0                    ACEH\n",
              "4                   JAMBI\n",
              "16                   BALI\n",
              "17    NUSA TENGGARA BARAT\n",
              "5        SUMATERA SELATAN\n",
              "13          DI YOGYAKARTA\n",
              "11             JAWA BARAT\n",
              "1          SUMATERA UTARA\n",
              "2          SUMATERA BARAT\n",
              "30                 MALUKU\n",
              "3                    RIAU\n",
              "29         SULAWESI BARAT\n",
              "23       KALIMANTAN UTARA\n",
              "31           MALUKU UTARA\n",
              "22       KALIMANTAN TIMUR\n",
              "18    NUSA TENGGARA TIMUR\n",
              "25        SULAWESI TENGAH\n",
              "6                BENGKULU\n",
              "20      KALIMANTAN TENGAH\n",
              "33                  PAPUA\n",
              "7                 LAMPUNG\n",
              "10            DKI JAKARTA\n",
              "14             JAWA TIMUR\n",
              "28              GORONTALO\n",
              "Name: Provinsi, dtype: object"
            ]
          },
          "metadata": {},
          "execution_count": 29
        }
      ]
    },
    {
      "cell_type": "code",
      "source": [
        "x_test"
      ],
      "metadata": {
        "colab": {
          "base_uri": "https://localhost:8080/"
        },
        "id": "W7gN8KkPZSIX",
        "outputId": "99b55492-15ca-452d-a6e8-ce523ee731bf"
      },
      "execution_count": 30,
      "outputs": [
        {
          "output_type": "execute_result",
          "data": {
            "text/plain": [
              "15                  BANTEN\n",
              "19        KALIMANTAN BARAT\n",
              "27       SULAWESI TENGGARA\n",
              "26        SULAWESI SELATAN\n",
              "8     KEP. BANGKA BELITUNG\n",
              "24          SULAWESI UTARA\n",
              "21      KALIMANTAN SELATAN\n",
              "Name: Provinsi, dtype: object"
            ]
          },
          "metadata": {},
          "execution_count": 30
        }
      ]
    }
  ]
}