{
  "nbformat": 4,
  "nbformat_minor": 0,
  "metadata": {
    "colab": {
      "provenance": [],
      "mount_file_id": "1gvWIWgIqN0QiwIXne6ygrxV_qQ6KGP4e",
      "authorship_tag": "ABX9TyP0uZKj8mfubjjEoJvSZiIm",
      "include_colab_link": true
    },
    "kernelspec": {
      "name": "python3",
      "display_name": "Python 3"
    },
    "language_info": {
      "name": "python"
    }
  },
  "cells": [
    {
      "cell_type": "markdown",
      "metadata": {
        "id": "view-in-github",
        "colab_type": "text"
      },
      "source": [
        "<a href=\"https://colab.research.google.com/github/FarrelFach/Machine-Learning/blob/main/UAS_3.ipynb\" target=\"_parent\"><img src=\"https://colab.research.google.com/assets/colab-badge.svg\" alt=\"Open In Colab\"/></a>"
      ]
    },
    {
      "cell_type": "code",
      "execution_count": null,
      "metadata": {
        "id": "UpZLIg-xIdEH"
      },
      "outputs": [],
      "source": [
        "# Assigning features and label variables\n",
        "mual=['Tidak','Tidak','Tidak','Ya','Tidak','Ya','Ya']\n",
        "diare=['Tidak','Tidak','Tidak','Ya','Ya','Ya','Ya']\n",
        "gemetar=['Tidak','Tidak','Ya','Tidak','Tidak','Tidak','Tidak'] \n",
        "demam=['Tidak','Sedang','Tinggi','Tinggi','Sedang','Tidak','Sedang']\n",
        "kondisi=['Sehat','Influenza','Influenza','Tifus','Tifus','Radang Usus','Radang Usus']"
      ]
    },
    {
      "cell_type": "code",
      "source": [
        "from sklearn import preprocessing\n",
        "Encode_Label=preprocessing.LabelEncoder()\n",
        "mual_encode=Encode_Label.fit_transform(mual)\n",
        "diare_encode=Encode_Label.fit_transform(diare)\n",
        "demam_encode=Encode_Label.fit_transform(demam)\n",
        "gemetar_encode=Encode_Label.fit_transform(gemetar)\n",
        "kondisi_encode=Encode_Label.fit_transform(kondisi)\n",
        "print(mual_encode)\n",
        "print(diare_encode)\n",
        "print(demam_encode)\n",
        "print(gemetar_encode)\n",
        "print(kondisi_encode)"
      ],
      "metadata": {
        "colab": {
          "base_uri": "https://localhost:8080/"
        },
        "id": "RuEyFRzTerDI",
        "outputId": "de76dccd-b690-442b-9b27-5a73e522e1c8"
      },
      "execution_count": null,
      "outputs": [
        {
          "output_type": "stream",
          "name": "stdout",
          "text": [
            "[0 0 0 1 0 1 1]\n",
            "[0 0 0 1 1 1 1]\n",
            "[1 0 2 2 0 1 0]\n",
            "[0 0 1 0 0 0 0]\n",
            "[2 0 0 3 3 1 1]\n"
          ]
        }
      ]
    },
    {
      "cell_type": "code",
      "source": [
        "fitur=list(zip(demam_encode, mual_encode, diare_encode, gemetar_encode))\n",
        "print(fitur)"
      ],
      "metadata": {
        "colab": {
          "base_uri": "https://localhost:8080/"
        },
        "id": "XGYPcvAgf_kS",
        "outputId": "7cc5ce07-8177-480c-d224-257804a3debf"
      },
      "execution_count": null,
      "outputs": [
        {
          "output_type": "stream",
          "name": "stdout",
          "text": [
            "[(1, 0, 0, 0), (0, 0, 0, 0), (2, 0, 0, 1), (2, 1, 1, 0), (0, 0, 1, 0), (1, 1, 1, 0), (0, 1, 1, 0)]\n"
          ]
        }
      ]
    },
    {
      "cell_type": "code",
      "source": [
        "from sklearn.neighbors import KNeighborsClassifier\n",
        "knn=KNeighborsClassifier(n_neighbors=3)\n",
        "knn.fit(fitur,kondisi_encode)\n",
        "\n",
        "#prediksi 0=Overcast dab 2=Mild\n",
        "prediksi=knn.predict([[2,1,0,1]])\n",
        "print(prediksi)"
      ],
      "metadata": {
        "colab": {
          "base_uri": "https://localhost:8080/"
        },
        "id": "BqEwryUYgQEp",
        "outputId": "88d2f90f-9718-400d-aad0-fd6d2afa2e18"
      },
      "execution_count": null,
      "outputs": [
        {
          "output_type": "stream",
          "name": "stdout",
          "text": [
            "[0]\n"
          ]
        }
      ]
    }
  ]
}