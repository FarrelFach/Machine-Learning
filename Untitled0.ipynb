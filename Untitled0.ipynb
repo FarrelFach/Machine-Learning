{
  "nbformat": 4,
  "nbformat_minor": 0,
  "metadata": {
    "colab": {
      "provenance": [],
      "authorship_tag": "ABX9TyPSVl1C3+pDI3/0yeurXI5P",
      "include_colab_link": true
    },
    "kernelspec": {
      "name": "python3",
      "display_name": "Python 3"
    },
    "language_info": {
      "name": "python"
    }
  },
  "cells": [
    {
      "cell_type": "markdown",
      "metadata": {
        "id": "view-in-github",
        "colab_type": "text"
      },
      "source": [
        "<a href=\"https://colab.research.google.com/github/FarrelFach/Machine-Learning/blob/main/Untitled0.ipynb\" target=\"_parent\"><img src=\"https://colab.research.google.com/assets/colab-badge.svg\" alt=\"Open In Colab\"/></a>"
      ]
    },
    {
      "cell_type": "code",
      "execution_count": 5,
      "metadata": {
        "colab": {
          "base_uri": "https://localhost:8080/"
        },
        "id": "HZ-jO6I55RFR",
        "outputId": "4b25b78e-e3c9-4d7d-942a-fbb6e352a14d"
      },
      "outputs": [
        {
          "output_type": "stream",
          "name": "stdout",
          "text": [
            "Python: 3.7.15 (default, Oct 12 2022, 19:14:55) \n",
            "[GCC 7.5.0]\n"
          ]
        }
      ],
      "source": [
        "import sys\n",
        "print('Python: {}'.format(sys.version))\n",
        "\n",
        "import scipy\n",
        "print('Python: {}'.format(scipy.version))\n",
        "\n",
        "import numpy\n",
        "print('Python: {}'.format(numpy.version))\n",
        "\n",
        "import matplotlib\n",
        "print('Python: {}'.format(sys.version))"
      ]
    }
  ]
}